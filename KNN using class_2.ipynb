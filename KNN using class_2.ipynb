{
 "cells": [
  {
   "cell_type": "code",
   "execution_count": 1,
   "id": "a5e33654",
   "metadata": {},
   "outputs": [],
   "source": [
    "import numpy as np\n"
   ]
  },
  {
   "cell_type": "code",
   "execution_count": 26,
   "id": "3d83f1d9",
   "metadata": {},
   "outputs": [
    {
     "name": "stdout",
     "output_type": "stream",
     "text": [
      "Accuracy: 0.22\n"
     ]
    }
   ],
   "source": [
    "import numpy as np\n",
    "\n",
    "class KNN:\n",
    "    def __init__(self, k=3):\n",
    "        self.k = k\n",
    "\n",
    "    def fit(self, X_train, y_train):\n",
    "        self.X_train = X_train\n",
    "        self.y_train = y_train\n",
    "\n",
    "    def predict(self, X_test):\n",
    "        predictions = [self._predict(x) for x in X_test]\n",
    "        return np.array(predictions)\n",
    "\n",
    "    def _predict(self, x):\n",
    "        distances = [np.sqrt(np.sum((x - x_train)**2)) for x_train in self.X_train]\n",
    "        k_indices = np.argsort(distances)[:self.k]\n",
    "        k_nearest_labels = [self.y_train[i] for i in k_indices]\n",
    "\n",
    "        label_counts = {}\n",
    "        for label in k_nearest_labels:\n",
    "            if label in label_counts:\n",
    "                label_counts[label] += 1\n",
    "            else:\n",
    "                label_counts[label] = 1\n",
    "\n",
    "        most_common_label = max(label_counts, key=label_counts.get)\n",
    "\n",
    "        return most_common_label\n",
    "    \n",
    "    def train_test_split(self, X, y, test_size=0.2, random_state=None):\n",
    "        if random_state is not None:\n",
    "            np.random.seed(random_state)\n",
    "        \n",
    "        num_samples = X.shape[0]\n",
    "        num_test_samples = int(num_samples * test_size)\n",
    "        shuffled_indices = np.random.permutation(num_samples)\n",
    "        \n",
    "        X_shuffled = X[shuffled_indices]\n",
    "        y_shuffled = y[shuffled_indices]\n",
    "        \n",
    "        X_train = X_shuffled[:-num_test_samples]\n",
    "        y_train = y_shuffled[:-num_test_samples]\n",
    "        X_test = X_shuffled[-num_test_samples:]\n",
    "        y_test = y_shuffled[-num_test_samples:]\n",
    "        \n",
    "        return X_train, X_test, y_train, y_test\n",
    "    \n",
    "    def accuracy(self, y_pred, y_true):\n",
    "        correct_predictions = np.sum(y_pred == y_true)\n",
    "        total_predictions = len(y_pred)\n",
    "        accuracy = correct_predictions / total_predictions\n",
    "        return accuracy\n",
    "\n",
    "# Example usage\n",
    "dataset = np.load(\"data.npy\",allow_pickle=True)\n",
    "X_train = dataset[:,1]  # Load your data\n",
    "y_train = dataset[:,3] \n",
    "X_train = np.concatenate([item.flatten() for item in X_train]).reshape(1500, 1024)     #for RESNETs 1st column\n",
    "#X_train = np.concatenate([item.flatten() for item in X_train]).reshape(1500, 512)      #for VITs 2nd column\n",
    "\n",
    "#num_samples = 1500\n",
    "#num_features = 1024\n",
    "#X_train = np.random.randn(num_samples, num_features)\n",
    "#y_train = np.random.randint(2, size=num_samples)\n",
    "\n",
    "knn = KNN(k=11)\n",
    "X_train, X_test, y_train, y_test = knn.train_test_split(X_train, y_train, test_size=0.20, random_state=42)\n",
    "\n",
    "knn.fit(X_train, y_train)\n",
    "predictions = knn.predict(X_test)\n",
    "\n",
    "accuracy = knn.accuracy(predictions, y_test)\n",
    "print(\"Accuracy:\", accuracy)"
   ]
  },
  {
   "cell_type": "code",
   "execution_count": null,
   "id": "8ed1d9f2",
   "metadata": {},
   "outputs": [],
   "source": []
  },
  {
   "cell_type": "code",
   "execution_count": null,
   "id": "1dbfbc28",
   "metadata": {},
   "outputs": [],
   "source": []
  }
 ],
 "metadata": {
  "kernelspec": {
   "display_name": "Python 3 (ipykernel)",
   "language": "python",
   "name": "python3"
  },
  "language_info": {
   "codemirror_mode": {
    "name": "ipython",
    "version": 3
   },
   "file_extension": ".py",
   "mimetype": "text/x-python",
   "name": "python",
   "nbconvert_exporter": "python",
   "pygments_lexer": "ipython3",
   "version": "3.11.3"
  }
 },
 "nbformat": 4,
 "nbformat_minor": 5
}
